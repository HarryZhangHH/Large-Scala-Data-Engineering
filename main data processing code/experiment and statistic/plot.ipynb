{
 "cells": [
  {
   "cell_type": "code",
   "execution_count": 1,
   "id": "72548c4f",
   "metadata": {},
   "outputs": [],
   "source": [
    "import pandas as pd\n",
    "from matplotlib import pyplot as plt\n",
    "import numpy as np\n",
    "df2016 = pd.read_csv('features_2016.csv')\n",
    "df2017 = pd.read_csv('features_2017.csv')"
   ]
  },
  {
   "cell_type": "code",
   "execution_count": 135,
   "id": "e5e472ce",
   "metadata": {},
   "outputs": [
    {
     "data": {
      "text/html": [
       "<div>\n",
       "<style scoped>\n",
       "    .dataframe tbody tr th:only-of-type {\n",
       "        vertical-align: middle;\n",
       "    }\n",
       "\n",
       "    .dataframe tbody tr th {\n",
       "        vertical-align: top;\n",
       "    }\n",
       "\n",
       "    .dataframe thead th {\n",
       "        text-align: right;\n",
       "    }\n",
       "</style>\n",
       "<table border=\"1\" class=\"dataframe\">\n",
       "  <thead>\n",
       "    <tr style=\"text-align: right;\">\n",
       "      <th></th>\n",
       "      <th>cls</th>\n",
       "      <th>start</th>\n",
       "      <th>end</th>\n",
       "      <th>start_lon</th>\n",
       "      <th>end_lon</th>\n",
       "      <th>start_lat</th>\n",
       "      <th>end_lat</th>\n",
       "      <th>max_alt</th>\n",
       "      <th>distance</th>\n",
       "      <th>time</th>\n",
       "      <th>avg_speed</th>\n",
       "      <th>startarea</th>\n",
       "      <th>endarea</th>\n",
       "      <th>start_sunrise</th>\n",
       "      <th>start_sunset</th>\n",
       "      <th>end_sunrise</th>\n",
       "      <th>end_sunset</th>\n",
       "    </tr>\n",
       "    <tr>\n",
       "      <th>type</th>\n",
       "      <th></th>\n",
       "      <th></th>\n",
       "      <th></th>\n",
       "      <th></th>\n",
       "      <th></th>\n",
       "      <th></th>\n",
       "      <th></th>\n",
       "      <th></th>\n",
       "      <th></th>\n",
       "      <th></th>\n",
       "      <th></th>\n",
       "      <th></th>\n",
       "      <th></th>\n",
       "      <th></th>\n",
       "      <th></th>\n",
       "      <th></th>\n",
       "      <th></th>\n",
       "    </tr>\n",
       "  </thead>\n",
       "  <tbody>\n",
       "    <tr>\n",
       "      <th>0.0</th>\n",
       "      <td>46.295968</td>\n",
       "      <td>1.474449e+09</td>\n",
       "      <td>1.474464e+09</td>\n",
       "      <td>4.146634</td>\n",
       "      <td>5.129603</td>\n",
       "      <td>47.209568</td>\n",
       "      <td>48.704525</td>\n",
       "      <td>34919.586694</td>\n",
       "      <td>945.83326</td>\n",
       "      <td>15028.004934</td>\n",
       "      <td>0.097919</td>\n",
       "      <td>0.382661</td>\n",
       "      <td>0.23629</td>\n",
       "      <td>0.365323</td>\n",
       "      <td>-0.143558</td>\n",
       "      <td>0.295459</td>\n",
       "      <td>-0.21297</td>\n",
       "    </tr>\n",
       "  </tbody>\n",
       "</table>\n",
       "</div>"
      ],
      "text/plain": [
       "            cls         start           end  start_lon   end_lon  start_lat  \\\n",
       "type                                                                          \n",
       "0.0   46.295968  1.474449e+09  1.474464e+09   4.146634  5.129603  47.209568   \n",
       "\n",
       "        end_lat       max_alt   distance          time  avg_speed  startarea  \\\n",
       "type                                                                           \n",
       "0.0   48.704525  34919.586694  945.83326  15028.004934   0.097919   0.382661   \n",
       "\n",
       "      endarea  start_sunrise  start_sunset  end_sunrise  end_sunset  \n",
       "type                                                                 \n",
       "0.0   0.23629       0.365323     -0.143558     0.295459    -0.21297  "
      ]
     },
     "execution_count": 135,
     "metadata": {},
     "output_type": "execute_result"
    }
   ],
   "source": [
    "def filter_alt(alt):\n",
    "    if int(alt) > 60000:\n",
    "        alt = 60000\n",
    "        return alt\n",
    "    else:\n",
    "        return alt\n",
    "    \n",
    "def filter_time(time):\n",
    "    if time >= 80000 or time <= 1800:\n",
    "        return None\n",
    "    else:\n",
    "        return time\n",
    "    \n",
    "def filter_distance(distance):\n",
    "    if distance < 100:\n",
    "        return None\n",
    "    else: \n",
    "        return distance\n",
    "    \n",
    "pd.set_option('mode.chained_assignment', None)\n",
    "df2016_cargo = df2016[df2016['type']==1]\n",
    "df2016_passe = df2016[df2016['type']==0]\n",
    "df2017_cargo = df2017[df2017['type']==1]\n",
    "df2017_passe = df2017[df2017['type']==0]\n",
    "\n",
    "df2016_cargo['max_alt'] = df2016_cargo.apply(lambda row: filter_alt(row['max_alt']), axis=1)\n",
    "df2016_passe['max_alt'] = df2016_passe.apply(lambda row: filter_alt(row['max_alt']), axis=1)\n",
    "df2017_cargo['max_alt'] = df2017_cargo.apply(lambda row: filter_alt(row['max_alt']), axis=1)\n",
    "df2017_passe['max_alt'] = df2017_passe.apply(lambda row: filter_alt(row['max_alt']), axis=1)\n",
    "\n",
    "df2016_cargo['time'] = df2016_cargo.apply(lambda row: filter_time(row['time']), axis=1)\n",
    "df2016_passe['time'] = df2016_passe.apply(lambda row: filter_time(row['time']), axis=1)\n",
    "df2017_cargo['time'] = df2017_cargo.apply(lambda row: filter_time(row['time']), axis=1)\n",
    "df2017_passe['time'] = df2017_passe.apply(lambda row: filter_time(row['time']), axis=1)\n",
    "\n",
    "df2016_cargo['distance'] = df2016_cargo.apply(lambda row: filter_distance(row['distance']), axis=1)\n",
    "df2016_passe['distance'] = df2016_passe.apply(lambda row: filter_distance(row['distance']), axis=1)\n",
    "df2017_cargo['distance'] = df2017_cargo.apply(lambda row: filter_distance(row['distance']), axis=1)\n",
    "df2017_passe['distance'] = df2017_passe.apply(lambda row: filter_distance(row['distance']), axis=1)\n",
    "\n",
    "cargo_2016_alt = df2016_cargo['max_alt'].to_numpy()\n",
    "passe_2016_alt = df2016_passe['max_alt'].to_numpy()\n",
    "cargo_2017_alt = df2017_cargo['max_alt'].to_numpy()\n",
    "passe_2017_alt = df2017_passe['max_alt'].to_numpy()\n",
    "\n",
    "df2016_cargo = df2016_cargo.dropna()\n",
    "df2016_passe = df2016_passe.dropna()\n",
    "df2017_cargo = df2017_cargo.dropna()\n",
    "df2017_passe = df2017_passe.dropna()\n",
    "\n",
    "cargo_2016_time = df2016_cargo['time'].to_numpy()\n",
    "passe_2016_time = df2016_passe['time'].to_numpy()\n",
    "cargo_2017_time = df2017_cargo['time'].to_numpy()\n",
    "passe_2017_time = df2017_passe['time'].to_numpy()\n",
    "\n",
    "cargo_2016_icao = df2016_cargo['Icao24'].to_numpy()\n",
    "passe_2016_icao = df2016_passe['Icao24'].to_numpy()\n",
    "cargo_2017_icao = df2017_cargo['Icao24'].to_numpy()\n",
    "passe_2017_icao = df2017_passe['Icao24'].to_numpy()\n",
    "\n",
    "# df2016_cargo\n",
    "# df2016_passe\n",
    "# df2017_cargo\n",
    "# df2017_passe\n",
    "\n",
    "# df2016_cargo.describe()\n",
    "# print(df2017_cargo)\n",
    "df2016_passe.groupby(['type']).mean()"
   ]
  },
  {
   "cell_type": "code",
   "execution_count": 26,
   "id": "a7ca6b09",
   "metadata": {},
   "outputs": [
    {
     "data": {
      "image/png": "[encoded data removed]",
      "text/plain": [
       "<Figure size 432x288 with 1 Axes>"
      ]
     },
     "metadata": {
      "needs_background": "light"
     },
     "output_type": "display_data"
    }
   ],
   "source": [
    "alt_list = []\n",
    "alt_list.append(cargo_2016_alt)\n",
    "alt_list.append(passe_2016_alt)\n",
    "alt_list.append(cargo_2017_alt)\n",
    "alt_list.append(passe_2017_alt)\n",
    "\n",
    "colors = ['red', 'tan', 'lime', 'blue']\n",
    "labels = ['2016_cargo', '2016_passenger', '2017_cargo', '2017_passenger']\n",
    "plt.hist(alt_list, density=True, bins=10, histtype='bar', color=colors, label=labels)\n",
    "plt.legend(prop={'size': 10})\n",
    "plt.xlabel(\"Max altitude\")\n",
    "plt.ylabel(\"Ratio\")\n",
    "plt.title(\"Max Altitude Histogram\")\n",
    "plt.show()"
   ]
  },
  {
   "cell_type": "code",
   "execution_count": 144,
   "id": "a07b66e1",
   "metadata": {},
   "outputs": [
    {
     "data": {
      "image/png": "[encoded data removed]",
      "text/plain": [
       "<Figure size 432x288 with 1 Axes>"
      ]
     },
     "metadata": {
      "needs_background": "light"
     },
     "output_type": "display_data"
    }
   ],
   "source": [
    "# time_list = []\n",
    "# time_list.append(cargo_2016_time)\n",
    "# time_list.append(passe_2016_time)\n",
    "# time_list.append(cargo_2017_time)\n",
    "# time_list.append(passe_2017_time)\n",
    "\n",
    "# colors = ['red', 'tan', 'lime', 'blue']\n",
    "# labels = ['2016_cargo', '2016_passenger', '2017_cargo', '2017_passenger']\n",
    "# plt.hist(time_list, bins=10, histtype='bar', color=colors, label=labels)\n",
    "plt.bar(cargo_2017_icao, cargo_2017_time)\n",
    "plt.xticks([])\n",
    "plt.xlabel(\"Time\")\n",
    "plt.ylabel(\"Count\")\n",
    "plt.title(\"Time Histogram\")\n",
    "plt.savefig('time_4', bbox_inches='tight')\n",
    "plt.show()"
   ]
  }
 ],
 "metadata": {
  "kernelspec": {
   "display_name": "Python 3",
   "language": "python",
   "name": "python3"
  },
  "language_info": {
   "codemirror_mode": {
    "name": "ipython",
    "version": 3
   },
   "file_extension": ".py",
   "mimetype": "text/x-python",
   "name": "python",
   "nbconvert_exporter": "python",
   "pygments_lexer": "ipython3",
   "version": "3.8.8"
  }
 },
 "nbformat": 4,
 "nbformat_minor": 5
}
