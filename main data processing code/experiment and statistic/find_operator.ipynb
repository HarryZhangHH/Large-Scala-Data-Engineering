{
 "cells": [
  {
   "cell_type": "code",
   "execution_count": 146,
   "id": "d8a0ebfd",
   "metadata": {},
   "outputs": [
    {
     "name": "stderr",
     "output_type": "stream",
     "text": [
      "/home/zhanghh/anaconda3/lib/python3.8/site-packages/IPython/core/interactiveshell.py:3165: DtypeWarning: Columns (7) have mixed types.Specify dtype option on import or set low_memory=False.\n",
      "  has_raised = await self.run_ast_nodes(code_ast.body, cell_name,\n"
     ]
    }
   ],
   "source": [
    "import pandas as pd\n",
    "from matplotlib import pyplot as plt\n",
    "import numpy as np\n",
    "df2016 = pd.read_csv('features_2016.csv')\n",
    "df2017 = pd.read_csv('features_2017.csv')\n",
    "dfaircraft = pd.read_csv('aircraftDatabase-2020-11.csv')\n",
    "dfmodel = pd.read_csv('plane2.csv')"
   ]
  },
  {
   "cell_type": "code",
   "execution_count": 147,
   "id": "b4975073",
   "metadata": {
    "scrolled": false
   },
   "outputs": [],
   "source": [
    "df2017_cargo = df2017[df2017[\"type\"] == 1]\n",
    "dfaircraft = dfaircraft[[\"icao24\" ,\"manufacturername\", \"model\", \"typecode\", \"owner\"]]\n",
    "df2017_cargo_2 = df2017_cargo.merge(dfaircraft, left_on='Icao24', right_on='icao24', how=\"left\")\n",
    "df2017_cargo_2 = df2017_cargo_2.dropna(subset=['model']).drop_duplicates(subset=['Icao24'])\n",
    "\n",
    "df2016_cargo = df2016[df2016[\"type\"] == 1]\n",
    "df2016_cargo_2 = df2016_cargo.merge(dfaircraft, left_on='Icao24', right_on='icao24', how=\"left\")\n",
    "df2016_cargo_2 = df2016_cargo_2.dropna(subset=['model']).drop_duplicates(subset=['Icao24'])\n",
    "\n",
    "dfcargo = pd.concat([df2017_cargo_2, df2016_cargo_2])"
   ]
  },
  {
   "cell_type": "code",
   "execution_count": 39,
   "id": "0f29e03a",
   "metadata": {},
   "outputs": [
    {
     "name": "stdout",
     "output_type": "stream",
     "text": [
      "Defaulting to user installation because normal site-packages is not writeable\n",
      "Collecting fuzzywuzzy\n",
      "  Downloading fuzzywuzzy-0.18.0-py2.py3-none-any.whl (18 kB)\n",
      "Installing collected packages: fuzzywuzzy\n",
      "Successfully installed fuzzywuzzy-0.18.0\n"
     ]
    },
    {
     "name": "stderr",
     "output_type": "stream",
     "text": [
      "/home/zhanghh/.local/lib/python3.8/site-packages/fuzzywuzzy/fuzz.py:11: UserWarning: Using slow pure-python SequenceMatcher. Install python-Levenshtein to remove this warning\n",
      "  warnings.warn('Using slow pure-python SequenceMatcher. Install python-Levenshtein to remove this warning')\n"
     ]
    }
   ],
   "source": [
    "# !pip install fuzzywuzzy\n",
    "from fuzzywuzzy import fuzz\n",
    "from fuzzywuzzy import process"
   ]
  },
  {
   "cell_type": "code",
   "execution_count": 243,
   "id": "370d7806",
   "metadata": {},
   "outputs": [],
   "source": [
    "dfcargo['model_simplified'] = dfcargo['model'].apply(lambda x:process.extractOne(x, dfmodel['model'].to_list(), score_cutoff=70))\n",
    "model_simplified_list = dfcargo['model_simplified'].to_list()\n",
    "model_simplified_list = [_[0] if _ != None else None for _ in model_simplified_list]\n",
    "dfcargo['model_simplified'] = model_simplified_list\n",
    "\n",
    "dfcargo_2 = dfcargo.merge(dfmodel, left_on = 'model_simplified', right_on = 'model', suffixes=('','_2'), how='left')\n",
    "dfcargo_2 = dfcargo_2.drop(['type_2','model_simplified'],axis=1)"
   ]
  },
  {
   "cell_type": "code",
   "execution_count": 246,
   "id": "baba0eb7",
   "metadata": {},
   "outputs": [
    {
     "name": "stdout",
     "output_type": "stream",
     "text": [
      "model_2\n",
      "737        80.0\n",
      "747-8F     30.0\n",
      "757        32.0\n",
      "767        31.0\n",
      "777        52.0\n",
      "A300       22.0\n",
      "A318        2.0\n",
      "A319       31.0\n",
      "A320      106.0\n",
      "A321       27.0\n",
      "A330       16.0\n",
      "A380        8.0\n",
      "C-5         1.0\n",
      "Dash 8      2.0\n",
      "MD-11      26.0\n",
      "PC          2.0\n",
      "else       95.0\n",
      "Name: type, dtype: float64\n"
     ]
    },
    {
     "data": {
      "image/png": "[encoded data removed]",
      "text/plain": [
       "<Figure size 432x360 with 1 Axes>"
      ]
     },
     "metadata": {
      "needs_background": "light"
     },
     "output_type": "display_data"
    }
   ],
   "source": [
    "dfcargo_2 = dfcargo_2.replace(np.nan, \"else\")\n",
    "dfs = dfcargo_2.groupby(['model_2'])['type'].sum()\n",
    "print(dfs)\n",
    "fig = dfs.plot(kind='bar', title='Type Statistic', ylabel='Count', xlabel='Type', figsize=(6,5)).get_figure()\n",
    "fig.savefig('type_statistic.png')"
   ]
  },
  {
   "cell_type": "code",
   "execution_count": 335,
   "id": "6f0dc486",
   "metadata": {},
   "outputs": [
    {
     "name": "stdout",
     "output_type": "stream",
     "text": [
      "payload_split\n",
      "2000        2\n",
      "4700        2\n",
      "18200      80\n",
      "39780      32\n",
      "48000      22\n",
      "52700      31\n",
      "68000       8\n",
      "70000      16\n",
      "91670      26\n",
      "103000    147\n",
      "122470      1\n",
      "134200     30\n",
      "150000      2\n",
      "177000     31\n",
      "199000    106\n",
      "253000     27\n",
      "Name: Icao24, dtype: int64\n"
     ]
    },
    {
     "data": {
      "image/png": "[encoded data removed]",
      "text/plain": [
       "<Figure size 432x288 with 1 Axes>"
      ]
     },
     "metadata": {
      "needs_background": "light"
     },
     "output_type": "display_data"
    }
   ],
   "source": [
    "def split_string(floats):\n",
    "    string = str(floats)\n",
    "    if string != 'else':\n",
    "        split = string.split()\n",
    "        payload = int(split[0].replace(',', ''))\n",
    "    else:\n",
    "        payload = 103000\n",
    "    return payload\n",
    "\n",
    "dfcargo_2['payload_split'] = dfcargo_2.apply(lambda row: split_string(row['payload']), axis=1)\n",
    "dfc = dfcargo_2.groupby(['payload_split'])['Icao24'].count()\n",
    "print(dfc)\n",
    "dfp = dfcargo_2['payload_split']\n",
    "\n",
    "fig, ax = plt.subplots(figsize = (6,4))\n",
    "dfp.plot(kind=\"hist\", density=True, bins=20, alpha = 0.77)\n",
    "dfp.plot(kind = \"kde\")\n",
    "\n",
    "quant_5, quant_25, quant_50, quant_75, quant_95 = dfp.quantile(0.05), dfp.quantile(0.25), dfp.quantile(0.5), dfp.quantile(0.75), dfp.quantile(0.95)\n",
    "quants = [[quant_5, 0.6, 0.16], [quant_25, 0.8, 0.26], [quant_50, 1, 0.36],  [quant_75, 0.8, 0.46], [quant_95, 0.6, 0.56]]\n",
    "for i in quants:\n",
    "    ax.axvline(i[0], alpha = i[1], ymax = i[2], linestyle = \":\", color=\"black\")\n",
    "\n",
    "ax.set_xlabel(\"Payload\")\n",
    "# x_start, x_end = 0, 4\n",
    "# ax.set_xlim(x_start, x_end)\n",
    "\n",
    "ax.set_yticklabels([])\n",
    "ax.set_ylabel(\"\")\n",
    "\n",
    "# Annotations\n",
    "# ax.text(0.5, 0.5, 'Some text', transform=ax.transAxes)\n",
    "ax.text(0.27, 0.17, \"5th\", size = 10, alpha = 0.8, transform=ax.transAxes)\n",
    "ax.text(0.32, 0.27, \"25th\", size = 11, alpha = 0.85, transform=ax.transAxes)\n",
    "ax.text(0.42, 0.37, \"50th\", size = 12, alpha = 1, transform=ax.transAxes)\n",
    "ax.text(0.54, 0.47, \"75th\", size = 11, alpha = 0.85, transform=ax.transAxes)\n",
    "ax.text(0.57, 0.57, \"95th Percentile\", size = 10, alpha =.8, transform=ax.transAxes)\n",
    "\n",
    "# Overall\n",
    "ax.grid(False)\n",
    "ax.set_title(\"Payload Statistic\")\n",
    "\n",
    "ax.tick_params(left = False, bottom = True)\n",
    "# for ax, spine in ax.spines.items():\n",
    "#     spine.set_visible(False)\n",
    "plt.savefig('payload_statistic.png', bbox_inches='tight')\n",
    "plt.show()"
   ]
  },
  {
   "cell_type": "code",
   "execution_count": 332,
   "id": "86dbe963",
   "metadata": {},
   "outputs": [
    {
     "data": {
      "image/png": "[encoded data removed]",
      "text/plain": [
       "<Figure size 432x288 with 1 Axes>"
      ]
     },
     "metadata": {
      "needs_background": "light"
     },
     "output_type": "display_data"
    }
   ],
   "source": [
    "def split_string(floats):\n",
    "    string = str(floats)\n",
    "    if string != 'else':\n",
    "        split = string.split()\n",
    "        payload = int(split[0].replace(',', ''))\n",
    "    else:\n",
    "        payload = 5500\n",
    "    return payload\n",
    "\n",
    "dfcargo_2['range_split'] = dfcargo_2.apply(lambda row: split_string(row['range']), axis=1)\n",
    "dfrc = dfcargo_2.groupby(['range_split'])['Icao24'].count()\n",
    "dfr = dfcargo_2['range_split']\n",
    "\n",
    "fig, ax = plt.subplots(figsize = (6,4))\n",
    "\n",
    "dfr.plot(kind=\"hist\", density=True, bins=20)\n",
    "dfr.plot(kind = \"kde\")\n",
    "\n",
    "# quant_5, quant_25, quant_50, quant_75, quant_95 = dfr.quantile(0.05), dfr.quantile(0.25), dfr.quantile(0.5), dfr.quantile(0.75), dfr.quantile(0.95)\n",
    "# quants = [[quant_5, 0.6, 0.16], [quant_25, 0.8, 0.26], [quant_50, 1, 0.36],  [quant_75, 0.8, 0.46], [quant_95, 0.6, 0.56]]\n",
    "# for i in quants:\n",
    "#     ax.axvline(i[0], alpha = i[1], ymax = i[2], linestyle = \":\")\n",
    "\n",
    "ax.set_xlabel(\"Range\")\n",
    "# x_start, x_end = 0, 4\n",
    "# ax.set_xlim(x_start, x_end)\n",
    "\n",
    "# ax.set_yticklabels([])\n",
    "# ax.set_ylabel(\"\")\n",
    "\n",
    "# # Annotations\n",
    "# # ax.text(0.5, 0.5, 'Some text', transform=ax.transAxes)\n",
    "# ax.text(0.27, 0.17, \"5th\", size = 10, alpha = 0.8, transform=ax.transAxes)\n",
    "# ax.text(0.32, 0.27, \"25th\", size = 11, alpha = 0.85, transform=ax.transAxes)\n",
    "# ax.text(0.42, 0.37, \"50th\", size = 12, alpha = 1, transform=ax.transAxes)\n",
    "# ax.text(0.54, 0.47, \"75th\", size = 11, alpha = 0.85, transform=ax.transAxes)\n",
    "# ax.text(0.57, 0.57, \"95th Percentile\", size = 10, alpha =.8, transform=ax.transAxes)\n",
    "\n",
    "# Overall\n",
    "# ax.grid(False)\n",
    "ax.set_title(\"Range Statistic\")\n",
    "\n",
    "# ax.tick_params(left = False, bottom = True)\n",
    "# for ax, spine in ax.spines.items():\n",
    "#     spine.set_visible(False)\n",
    "plt.savefig('range_statistic.png', bbox_inches='tight')\n",
    "plt.show()"
   ]
  },
  {
   "cell_type": "code",
   "execution_count": 221,
   "id": "52dc8b69",
   "metadata": {
    "scrolled": false
   },
   "outputs": [
    {
     "data": {
      "text/plain": [
       "owner\n",
       "Federal Express Corp          50\n",
       "Iberia Express                37\n",
       "Qatar Airways                 35\n",
       "United Parcel Service Co      25\n",
       "Air France                    17\n",
       "Emirates Airline              16\n",
       "Sunexpress                    15\n",
       "Tap Portugal                  14\n",
       "Thai Airways International    13\n",
       "Vueling Airlines              12\n",
       "Name: type, dtype: int64"
      ]
     },
     "execution_count": 221,
     "metadata": {},
     "output_type": "execute_result"
    }
   ],
   "source": [
    "dfcargo[['type', 'owner']].groupby(['owner'])['type'].count().nlargest(10)"
   ]
  },
  {
   "cell_type": "code",
   "execution_count": 225,
   "id": "ef6dc932",
   "metadata": {},
   "outputs": [
    {
     "data": {
      "text/html": [
       "<div>\n",
       "<style scoped>\n",
       "    .dataframe tbody tr th:only-of-type {\n",
       "        vertical-align: middle;\n",
       "    }\n",
       "\n",
       "    .dataframe tbody tr th {\n",
       "        vertical-align: top;\n",
       "    }\n",
       "\n",
       "    .dataframe thead tr th {\n",
       "        text-align: left;\n",
       "    }\n",
       "\n",
       "    .dataframe thead tr:last-of-type th {\n",
       "        text-align: right;\n",
       "    }\n",
       "</style>\n",
       "<table border=\"1\" class=\"dataframe\">\n",
       "  <thead>\n",
       "    <tr>\n",
       "      <th></th>\n",
       "      <th colspan=\"4\" halign=\"left\">owner</th>\n",
       "    </tr>\n",
       "    <tr>\n",
       "      <th></th>\n",
       "      <th>count</th>\n",
       "      <th>unique</th>\n",
       "      <th>top</th>\n",
       "      <th>freq</th>\n",
       "    </tr>\n",
       "    <tr>\n",
       "      <th>model_2</th>\n",
       "      <th></th>\n",
       "      <th></th>\n",
       "      <th></th>\n",
       "      <th></th>\n",
       "    </tr>\n",
       "  </thead>\n",
       "  <tbody>\n",
       "    <tr>\n",
       "      <th>737</th>\n",
       "      <td>80</td>\n",
       "      <td>41</td>\n",
       "      <td>Sunexpress</td>\n",
       "      <td>15</td>\n",
       "    </tr>\n",
       "    <tr>\n",
       "      <th>747-8F</th>\n",
       "      <td>30</td>\n",
       "      <td>16</td>\n",
       "      <td>Airbridgecargo</td>\n",
       "      <td>7</td>\n",
       "    </tr>\n",
       "    <tr>\n",
       "      <th>757</th>\n",
       "      <td>32</td>\n",
       "      <td>9</td>\n",
       "      <td>Federal Express Corp</td>\n",
       "      <td>13</td>\n",
       "    </tr>\n",
       "    <tr>\n",
       "      <th>767</th>\n",
       "      <td>31</td>\n",
       "      <td>11</td>\n",
       "      <td>United Parcel Service Co</td>\n",
       "      <td>9</td>\n",
       "    </tr>\n",
       "    <tr>\n",
       "      <th>777</th>\n",
       "      <td>52</td>\n",
       "      <td>16</td>\n",
       "      <td>Qatar Airways</td>\n",
       "      <td>15</td>\n",
       "    </tr>\n",
       "    <tr>\n",
       "      <th>A300</th>\n",
       "      <td>22</td>\n",
       "      <td>5</td>\n",
       "      <td>Federal Express Corp</td>\n",
       "      <td>12</td>\n",
       "    </tr>\n",
       "    <tr>\n",
       "      <th>A318</th>\n",
       "      <td>2</td>\n",
       "      <td>2</td>\n",
       "      <td>Avianca Brasil</td>\n",
       "      <td>1</td>\n",
       "    </tr>\n",
       "    <tr>\n",
       "      <th>A319</th>\n",
       "      <td>31</td>\n",
       "      <td>16</td>\n",
       "      <td>Tap Portugal</td>\n",
       "      <td>6</td>\n",
       "    </tr>\n",
       "    <tr>\n",
       "      <th>A320</th>\n",
       "      <td>106</td>\n",
       "      <td>38</td>\n",
       "      <td>Iberia Express</td>\n",
       "      <td>35</td>\n",
       "    </tr>\n",
       "    <tr>\n",
       "      <th>A321</th>\n",
       "      <td>27</td>\n",
       "      <td>14</td>\n",
       "      <td>Air France</td>\n",
       "      <td>6</td>\n",
       "    </tr>\n",
       "    <tr>\n",
       "      <th>A330</th>\n",
       "      <td>16</td>\n",
       "      <td>4</td>\n",
       "      <td>Qatar Airways</td>\n",
       "      <td>11</td>\n",
       "    </tr>\n",
       "    <tr>\n",
       "      <th>A380</th>\n",
       "      <td>8</td>\n",
       "      <td>2</td>\n",
       "      <td>Emirates Airline</td>\n",
       "      <td>7</td>\n",
       "    </tr>\n",
       "    <tr>\n",
       "      <th>C-5</th>\n",
       "      <td>1</td>\n",
       "      <td>1</td>\n",
       "      <td>United States Army</td>\n",
       "      <td>1</td>\n",
       "    </tr>\n",
       "    <tr>\n",
       "      <th>Dash 8</th>\n",
       "      <td>2</td>\n",
       "      <td>2</td>\n",
       "      <td>Private</td>\n",
       "      <td>1</td>\n",
       "    </tr>\n",
       "    <tr>\n",
       "      <th>MD-11</th>\n",
       "      <td>26</td>\n",
       "      <td>3</td>\n",
       "      <td>Federal Express Corp</td>\n",
       "      <td>15</td>\n",
       "    </tr>\n",
       "    <tr>\n",
       "      <th>PC</th>\n",
       "      <td>2</td>\n",
       "      <td>2</td>\n",
       "      <td>Pi Sn1576 Llc</td>\n",
       "      <td>1</td>\n",
       "    </tr>\n",
       "    <tr>\n",
       "      <th>else</th>\n",
       "      <td>95</td>\n",
       "      <td>57</td>\n",
       "      <td>Cityjet Designated Activity Company</td>\n",
       "      <td>11</td>\n",
       "    </tr>\n",
       "  </tbody>\n",
       "</table>\n",
       "</div>"
      ],
      "text/plain": [
       "        owner                                                 \n",
       "        count unique                                  top freq\n",
       "model_2                                                       \n",
       "737        80     41                           Sunexpress   15\n",
       "747-8F     30     16                       Airbridgecargo    7\n",
       "757        32      9                 Federal Express Corp   13\n",
       "767        31     11             United Parcel Service Co    9\n",
       "777        52     16                        Qatar Airways   15\n",
       "A300       22      5                 Federal Express Corp   12\n",
       "A318        2      2                       Avianca Brasil    1\n",
       "A319       31     16                         Tap Portugal    6\n",
       "A320      106     38                       Iberia Express   35\n",
       "A321       27     14                           Air France    6\n",
       "A330       16      4                        Qatar Airways   11\n",
       "A380        8      2                     Emirates Airline    7\n",
       "C-5         1      1                   United States Army    1\n",
       "Dash 8      2      2                              Private    1\n",
       "MD-11      26      3                 Federal Express Corp   15\n",
       "PC          2      2                        Pi Sn1576 Llc    1\n",
       "else       95     57  Cityjet Designated Activity Company   11"
      ]
     },
     "execution_count": 225,
     "metadata": {},
     "output_type": "execute_result"
    }
   ],
   "source": [
    "dfcargo_2[['model_2', 'owner']].groupby(['model_2']).describe()"
   ]
  },
  {
   "cell_type": "code",
   "execution_count": 217,
   "id": "9bc63bf9",
   "metadata": {},
   "outputs": [
    {
     "data": {
      "text/plain": [
       "owner\n",
       "Ryanair Designated Activity Company    1099\n",
       "Easyjet Airline                        1047\n",
       "Air France                              672\n",
       "British Airways                         562\n",
       "Klm Royal Dutch Airlines                383\n",
       "Lufthansa                               365\n",
       "Iberia                                  353\n",
       "Scandinavian Airlines System            351\n",
       "United Airlines Inc                     319\n",
       "Southwest Airlines Co                   265\n",
       "Name: type, dtype: int64"
      ]
     },
     "execution_count": 217,
     "metadata": {},
     "output_type": "execute_result"
    }
   ],
   "source": [
    "df2017_2 = df2017.merge(dfaircraft, left_on='Icao24', right_on='icao24', how=\"left\")\n",
    "df2016_2 = df2016.merge(dfaircraft, left_on='Icao24', right_on='icao24', how=\"left\")\n",
    "dfall = pd.concat([df2017_2, df2016_2])\n",
    "dfall[['type', 'owner']].groupby(['owner'])['type'].count().nlargest(10)"
   ]
  }
 ],
 "metadata": {
  "kernelspec": {
   "display_name": "Python 3",
   "language": "python",
   "name": "python3"
  },
  "language_info": {
   "codemirror_mode": {
    "name": "ipython",
    "version": 3
   },
   "file_extension": ".py",
   "mimetype": "text/x-python",
   "name": "python",
   "nbconvert_exporter": "python",
   "pygments_lexer": "ipython3",
   "version": "3.6.9"
  }
 },
 "nbformat": 4,
 "nbformat_minor": 5
}
